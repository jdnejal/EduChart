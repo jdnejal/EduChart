{
 "cells": [
  {
   "cell_type": "markdown",
   "id": "92332802",
   "metadata": {},
   "source": [
    "# Visual Analytics\n",
    "### EDA of Dataset"
   ]
  },
  {
   "cell_type": "code",
   "execution_count": null,
   "id": "18b0ef89",
   "metadata": {
    "vscode": {
     "languageId": "plaintext"
    }
   },
   "outputs": [],
   "source": [
    "# Load Data"
   ]
  }
 ],
 "metadata": {
  "language_info": {
   "name": "python"
  }
 },
 "nbformat": 4,
 "nbformat_minor": 5
}
